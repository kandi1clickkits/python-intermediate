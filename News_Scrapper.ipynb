{
 "cells": [
  {
   "cell_type": "markdown",
   "id": "ec0a2845",
   "metadata": {},
   "source": [
    "## Library imports"
   ]
  },
  {
   "cell_type": "code",
   "execution_count": 1,
   "id": "ddc8193f",
   "metadata": {},
   "outputs": [],
   "source": [
    "from bs4 import BeautifulSoup\n",
    "import requests\n",
    "import csv\n",
    "\n",
    "URL = \"https://www.indiatoday.in/\""
   ]
  },
  {
   "cell_type": "markdown",
   "id": "84ea30e6",
   "metadata": {},
   "source": [
    "## Write contents to csv"
   ]
  },
  {
   "cell_type": "code",
   "execution_count": 2,
   "id": "6480df34",
   "metadata": {},
   "outputs": [],
   "source": [
    "def writeToCSV(topTenNews, category):\n",
    "    with open(\"topTen\" + category + \"News.csv\", \"w\") as file:\n",
    "        writer = csv.writer(file)\n",
    "        writer.writerow([\"Date\", \"Link\", \"Headline\"])\n",
    "        for news in topTenNews:\n",
    "            #print(news)\n",
    "            writer.writerow(\n",
    "                [news[2], \"https://www.indiatoday.in/\" + news[1], news[0]])\n"
   ]
  },
  {
   "cell_type": "markdown",
   "id": "137c54e5",
   "metadata": {},
   "source": [
    "## Get contents from url"
   ]
  },
  {
   "cell_type": "code",
   "execution_count": 3,
   "id": "fe45ceb0",
   "metadata": {},
   "outputs": [],
   "source": [
    "def getTopTenFromDivTag(category):\n",
    "    topTenNews = []\n",
    "    count = 0\n",
    "    category_url = URL + category\n",
    "\n",
    "    page = requests.get(category_url)\n",
    "    soup = BeautifulSoup(page.text, 'html.parser')\n",
    "\n",
    "    all_div_tags = soup.find_all(class_=\"B1S3_content__wrap__9mSB6\")\n",
    "\n",
    "    for div in all_div_tags:\n",
    "        count += 1\n",
    "        if count > 10:\n",
    "            break\n",
    "        headline = div.find(\"a\").attrs[\"title\"]\n",
    "        link = div.find(\"a\").attrs[\"href\"]\n",
    "        date = div.find(\"a\").attrs[\"href\"][-10:]\n",
    "        topTenNews.append([headline, link, date])\n",
    "\n",
    "    return topTenNews"
   ]
  },
  {
   "cell_type": "markdown",
   "id": "0caca6b5",
   "metadata": {},
   "source": [
    "## Main function to initiate scraping"
   ]
  },
  {
   "cell_type": "code",
   "execution_count": 9,
   "id": "eb45b423",
   "metadata": {},
   "outputs": [
    {
     "name": "stdout",
     "output_type": "stream",
     "text": [
      "Please Choose a Category from the following list\n",
      "1. Trending-news\n",
      "2. India\n",
      "3. World\n",
      "4. Cities\n",
      "5. Business\n",
      "6. Education-today\n",
      "7. Health\n",
      "8. Technology\n",
      "9. Sports\n",
      "10. Lifestyle\n",
      "Example: Enter 'world' for top 10 world news\n",
      "lifestyle\n",
      "Category chosen:  lifestyle\n",
      "Created CSV File Successfully!\n"
     ]
    }
   ],
   "source": [
    "def main():\n",
    "\n",
    "    categories = [\"trending-news\", \"india\", \"world\", \"cities\", \"business\", \"education-today\", \"health\", \"technology\", \"sports\", \"lifestyle\"]\n",
    "\n",
    "    print(\"Please Choose a Category from the following list\")\n",
    "\n",
    "    for index, category in enumerate(categories):\n",
    "        print(str(index + 1) + \". \" + category.capitalize())\n",
    "\n",
    "    print(\"Example: Enter 'world' for top 10 world news\")\n",
    "\n",
    "    category = input()\n",
    "    category = category.lower()\n",
    "    print(\"Category chosen: \", category)\n",
    "\n",
    "    if category not in categories:\n",
    "        print(\"\\nPlease choose a valid category!\")\n",
    "        exit()\n",
    "\n",
    "    if category in categories[:10]:\n",
    "        topTenNews = getTopTenFromDivTag(category)\n",
    "    else:\n",
    "        topTenNews = getTopTenFromLiTag(category)\n",
    "\n",
    "    #print(topTenNews)\n",
    "    writeToCSV(topTenNews, category)\n",
    "\n",
    "    print(\"Created CSV File Successfully!\")\n",
    "\n",
    "\n",
    "main()"
   ]
  },
  {
   "cell_type": "code",
   "execution_count": null,
   "id": "72d76223",
   "metadata": {},
   "outputs": [],
   "source": []
  },
  {
   "cell_type": "code",
   "execution_count": null,
   "id": "d6ca65e0",
   "metadata": {},
   "outputs": [],
   "source": []
  }
 ],
 "metadata": {
  "kernelspec": {
   "display_name": "Python 3 (ipykernel)",
   "language": "python",
   "name": "python3"
  },
  "language_info": {
   "codemirror_mode": {
    "name": "ipython",
    "version": 3
   },
   "file_extension": ".py",
   "mimetype": "text/x-python",
   "name": "python",
   "nbconvert_exporter": "python",
   "pygments_lexer": "ipython3",
   "version": "3.9.8"
  }
 },
 "nbformat": 4,
 "nbformat_minor": 5
}
